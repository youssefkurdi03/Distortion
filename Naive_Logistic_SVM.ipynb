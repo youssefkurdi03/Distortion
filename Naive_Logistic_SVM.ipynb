{
 "cells": [
  {
   "cell_type": "code",
   "execution_count": 1,
   "id": "1e0b31ae",
   "metadata": {},
   "outputs": [],
   "source": [
    "import pandas as pd\n",
    "import numpy as np\n",
    "import matplotlib.pyplot as plt\n",
    "\n",
    "from sklearn.model_selection import train_test_split\n",
    "from sklearn.feature_extraction.text import TfidfVectorizer\n",
    "\n",
    "from sklearn.naive_bayes import MultinomialNB\n",
    "from sklearn.linear_model import LogisticRegression\n",
    "from sklearn.svm import LinearSVC\n",
    "\n",
    "from sklearn.metrics import accuracy_score, classification_report, confusion_matrix\n"
   ]
  },
  {
   "cell_type": "code",
   "execution_count": 3,
   "id": "b520d21e",
   "metadata": {},
   "outputs": [
    {
     "name": "stdout",
     "output_type": "stream",
     "text": [
      "✅ Dataset loaded successfully!\n",
      "\n",
      "                    CommentID      VideoID  \\\n",
      "0  UgyRjrEdJIPrf68uND14AaABAg  mcY4M9gjtsI   \n",
      "1  UgxXxEIySAwnMNw8D7N4AaABAg  2vuXcw9SZbA   \n",
      "2  UgxB0jh2Ur41mcXr5IB4AaABAg  papg2tsoFzg   \n",
      "3  UgwMOh95MfK0GuXLLrF4AaABAg  31KTdfRH6nY   \n",
      "4  UgxJuUe5ysG8OSbABAl4AaABAg  -hV6aeyPHPA   \n",
      "\n",
      "                                          VideoTitle              AuthorName  \\\n",
      "0        They killed my friend.#tales #movie #shorts         @OneWhoWandered   \n",
      "1  Man Utd conceding first penalty at home in yea...           @chiefvon3068   \n",
      "2                       Welcome to Javascript Course          @Abdulla-ip8qr   \n",
      "3  Building web applications in Java with Spring ...        @finnianthehuman   \n",
      "4  After a new engine her car dies on her way hom...  @ryoutubeplaylistb6137   \n",
      "\n",
      "            AuthorChannelID  \\\n",
      "0  UC_-UEXaBL1dqqUPGkDll49A   \n",
      "1  UCZ1LcZESjYqzaQRhjdZJFwg   \n",
      "2  UCWBK35w5Swy1iF5xIbEyw3A   \n",
      "3  UCwQ2Z03nOcMxWozBb_Cv66w   \n",
      "4  UCTTcJ0tsAKQokmHB2qVb1qQ   \n",
      "\n",
      "                                         CommentText Sentiment  Likes  \\\n",
      "0                    Anyone know what movie this is?   Neutral      0   \n",
      "1  The fact they're holding each other back while...  Positive      0   \n",
      "2                        waiting next video will be?   Neutral      1   \n",
      "3  Thanks for the great video.\\n\\nI don't underst...   Neutral      0   \n",
      "4  Good person helping good people.\\nThis is how ...  Positive      3   \n",
      "\n",
      "   Replies          PublishedAt CountryCode  CategoryID  \n",
      "0        2  2025-01-15 00:54:55          NZ           1  \n",
      "1        0  2025-01-13 23:51:46          AU          17  \n",
      "2        0  2020-07-06 13:18:16          IN          27  \n",
      "3        1  2024-09-18 12:04:12          US          27  \n",
      "4        1  2025-01-10 19:39:03          US           2  \n",
      "\n",
      "Columns in dataset:\n",
      "['CommentID', 'VideoID', 'VideoTitle', 'AuthorName', 'AuthorChannelID', 'CommentText', 'Sentiment', 'Likes', 'Replies', 'PublishedAt', 'CountryCode', 'CategoryID']\n",
      "\n",
      "We will use:\n",
      " - CommentText (the actual YouTube comment)\n",
      " - Sentiment   (label: Positive / Negative / Neutral)\n",
      "\n",
      "Class distribution:\n",
      "Sentiment\n",
      "Negative    346075\n",
      "Positive    343317\n",
      "Neutral     342833\n",
      "Name: count, dtype: int64\n"
     ]
    }
   ],
   "source": [
    "df = pd.read_csv(\"youtube-comments-sentiment.csv\")  \n",
    "\n",
    "print(\"✅ Dataset loaded successfully!\\n\")\n",
    "print(df.head())\n",
    "\n",
    "print(\"\\nColumns in dataset:\")\n",
    "print(df.columns.tolist())\n",
    "\n",
    "print(\"\\nWe will use:\")\n",
    "print(\" - CommentText (the actual YouTube comment)\")\n",
    "print(\" - Sentiment   (label: Positive / Negative / Neutral)\")\n",
    "\n",
    "texts = df[\"CommentText\"].astype(str)\n",
    "labels = df[\"Sentiment\"].astype(str)\n",
    "\n",
    "print(\"\\nClass distribution:\")\n",
    "print(labels.value_counts())\n"
   ]
  },
  {
   "cell_type": "code",
   "execution_count": 4,
   "id": "0da54e3d",
   "metadata": {},
   "outputs": [
    {
     "name": "stdout",
     "output_type": "stream",
     "text": [
      "Training samples: 825780\n",
      "Test samples    : 206445\n",
      "\n",
      "TF-IDF transformation complete.\n",
      "Shape of training matrix: (825780, 5000)\n",
      "Shape of testing matrix : (206445, 5000)\n"
     ]
    }
   ],
   "source": [
    "# Split\n",
    "X_train, X_test, y_train, y_test = train_test_split(\n",
    "    texts,\n",
    "    labels,\n",
    "    test_size=0.2,\n",
    "    random_state=42,\n",
    "    stratify=labels\n",
    ")\n",
    "\n",
    "print(f\"Training samples: {len(X_train)}\")\n",
    "print(f\"Test samples    : {len(X_test)}\")\n",
    "\n",
    "# TF-IDF vectorizer\n",
    "vectorizer = TfidfVectorizer(\n",
    "    stop_words=\"english\",\n",
    "    max_features=5000,\n",
    "    ngram_range=(1, 2)  \n",
    ")\n",
    "\n",
    "X_train_vec = vectorizer.fit_transform(X_train)\n",
    "X_test_vec = vectorizer.transform(X_test)\n",
    "\n",
    "print(\"\\nTF-IDF transformation complete.\")\n",
    "print(\"Shape of training matrix:\", X_train_vec.shape)\n",
    "print(\"Shape of testing matrix :\", X_test_vec.shape)\n",
    "\n",
    "# We'll store results in a dictionary to compare at the end\n",
    "results = {}\n",
    "reports = {}\n",
    "conf_mats = {}\n"
   ]
  },
  {
   "cell_type": "code",
   "execution_count": 5,
   "id": "0307b30c",
   "metadata": {},
   "outputs": [
    {
     "name": "stdout",
     "output_type": "stream",
     "text": [
      "\n",
      "Naive Bayes Accuracy: 60.15%\n",
      "\n",
      "Classification Report (Naive Bayes):\n",
      "              precision    recall  f1-score   support\n",
      "\n",
      "    Negative       0.54      0.70      0.61     69215\n",
      "     Neutral       0.57      0.49      0.53     68567\n",
      "    Positive       0.72      0.62      0.66     68663\n",
      "\n",
      "    accuracy                           0.60    206445\n",
      "   macro avg       0.61      0.60      0.60    206445\n",
      "weighted avg       0.61      0.60      0.60    206445\n",
      "\n",
      "Confusion Matrix (Naive Bayes):\n",
      "[[48357 14525  6333]\n",
      " [24652 33554 10361]\n",
      " [15772 10620 42271]]\n"
     ]
    }
   ],
   "source": [
    "nb_model = MultinomialNB()\n",
    "nb_model.fit(X_train_vec, y_train)\n",
    "\n",
    "nb_preds = nb_model.predict(X_test_vec)\n",
    "nb_acc = accuracy_score(y_test, nb_preds)\n",
    "\n",
    "print(f\"\\nNaive Bayes Accuracy: {nb_acc * 100:.2f}%\")\n",
    "\n",
    "print(\"\\nClassification Report (Naive Bayes):\")\n",
    "print(classification_report(y_test, nb_preds))\n",
    "\n",
    "cm_nb = confusion_matrix(y_test, nb_preds)\n",
    "print(\"Confusion Matrix (Naive Bayes):\")\n",
    "print(cm_nb)\n",
    "\n",
    "\n",
    "results[\"Naive Bayes\"] = nb_acc\n",
    "reports[\"Naive Bayes\"] = classification_report(y_test, nb_preds, output_dict=False)\n",
    "conf_mats[\"Naive Bayes\"] = cm_nb\n"
   ]
  },
  {
   "cell_type": "code",
   "execution_count": 6,
   "id": "a987253c",
   "metadata": {},
   "outputs": [
    {
     "name": "stdout",
     "output_type": "stream",
     "text": [
      "\n",
      "Logistic Regression Accuracy: 64.63%\n",
      "\n",
      "Classification Report (Logistic Regression):\n",
      "              precision    recall  f1-score   support\n",
      "\n",
      "    Negative       0.65      0.64      0.64     69215\n",
      "     Neutral       0.58      0.65      0.61     68567\n",
      "    Positive       0.73      0.65      0.69     68663\n",
      "\n",
      "    accuracy                           0.65    206445\n",
      "   macro avg       0.65      0.65      0.65    206445\n",
      "weighted avg       0.65      0.65      0.65    206445\n",
      "\n",
      "Confusion Matrix (Logistic Regression):\n",
      "[[44264 18084  6867]\n",
      " [14634 44396  9537]\n",
      " [ 9295 14608 44760]]\n"
     ]
    }
   ],
   "source": [
    "lr_model = LogisticRegression(max_iter=200)  \n",
    "lr_model.fit(X_train_vec, y_train)\n",
    "\n",
    "lr_preds = lr_model.predict(X_test_vec)\n",
    "lr_acc = accuracy_score(y_test, lr_preds)\n",
    "\n",
    "print(f\"\\nLogistic Regression Accuracy: {lr_acc * 100:.2f}%\")\n",
    "\n",
    "print(\"\\nClassification Report (Logistic Regression):\")\n",
    "print(classification_report(y_test, lr_preds))\n",
    "\n",
    "cm_lr = confusion_matrix(y_test, lr_preds)\n",
    "print(\"Confusion Matrix (Logistic Regression):\")\n",
    "print(cm_lr)\n",
    "\n",
    "\n",
    "results[\"Logistic Regression\"] = lr_acc\n",
    "reports[\"Logistic Regression\"] = classification_report(y_test, lr_preds, output_dict=False)\n",
    "conf_mats[\"Logistic Regression\"] = cm_lr\n"
   ]
  },
  {
   "cell_type": "code",
   "execution_count": 7,
   "id": "0dc9b03b",
   "metadata": {},
   "outputs": [
    {
     "name": "stdout",
     "output_type": "stream",
     "text": [
      "\n",
      "SVM Accuracy: 64.59%\n",
      "\n",
      "Classification Report (SVM):\n",
      "              precision    recall  f1-score   support\n",
      "\n",
      "    Negative       0.65      0.64      0.64     69215\n",
      "     Neutral       0.57      0.65      0.61     68567\n",
      "    Positive       0.73      0.65      0.69     68663\n",
      "\n",
      "    accuracy                           0.65    206445\n",
      "   macro avg       0.65      0.65      0.65    206445\n",
      "weighted avg       0.65      0.65      0.65    206445\n",
      "\n",
      "Confusion Matrix (SVM):\n",
      "[[44384 18183  6648]\n",
      " [14593 44412  9562]\n",
      " [ 9443 14678 44542]]\n"
     ]
    }
   ],
   "source": [
    "svm_model = LinearSVC()\n",
    "svm_model.fit(X_train_vec, y_train)\n",
    "\n",
    "svm_preds = svm_model.predict(X_test_vec)\n",
    "svm_acc = accuracy_score(y_test, svm_preds)\n",
    "\n",
    "print(f\"\\nSVM Accuracy: {svm_acc * 100:.2f}%\")\n",
    "\n",
    "print(\"\\nClassification Report (SVM):\")\n",
    "print(classification_report(y_test, svm_preds))\n",
    "\n",
    "cm_svm = confusion_matrix(y_test, svm_preds)\n",
    "print(\"Confusion Matrix (SVM):\")\n",
    "print(cm_svm)\n",
    "\n",
    "\n",
    "results[\"SVM\"] = svm_acc\n",
    "reports[\"SVM\"] = classification_report(y_test, svm_preds, output_dict=False)\n",
    "conf_mats[\"SVM\"] = cm_svm\n"
   ]
  },
  {
   "cell_type": "code",
   "execution_count": 9,
   "id": "9c190e3f",
   "metadata": {},
   "outputs": [
    {
     "name": "stdout",
     "output_type": "stream",
     "text": [
      "Final Accuracy Scores:\n",
      "\n",
      "Naive Bayes: 60.15%\n",
      "Logistic Regression: 64.63%\n",
      "SVM: 64.59%\n"
     ]
    },
    {
     "data": {
      "image/png": "[encoded data removed]",
      "text/plain": [
       "<Figure size 700x400 with 1 Axes>"
      ]
     },
     "metadata": {},
     "output_type": "display_data"
    },
    {
     "name": "stdout",
     "output_type": "stream",
     "text": [
      "\n",
      "Observation:\n",
      "- Which model is best?\n",
      "  -> Logistic Regression performed the best in terms of accuracy.\n"
     ]
    }
   ],
   "source": [
    "print(\"Final Accuracy Scores:\\n\")\n",
    "for model_name, acc in results.items():\n",
    "    print(f\"{model_name}: {acc*100:.2f}%\")\n",
    "\n",
    "# Bar plot for report / slides\n",
    "model_names = list(results.keys())\n",
    "accuracies = [results[m] for m in model_names]\n",
    "\n",
    "plt.figure(figsize=(7,4))\n",
    "bars = plt.bar(model_names, accuracies)\n",
    "\n",
    "plt.title(\"Model Accuracy Comparison\")\n",
    "plt.ylabel(\"Accuracy\")\n",
    "plt.ylim(0, 1)\n",
    "\n",
    "for bar in bars:\n",
    "    yval = bar.get_height()\n",
    "    plt.text(\n",
    "        bar.get_x() + bar.get_width()/2,\n",
    "        yval + 0.01,\n",
    "        f\"{yval*100:.2f}%\",\n",
    "        ha='center',\n",
    "        fontsize=11,\n",
    "        fontweight='bold'\n",
    "    )\n",
    "\n",
    "plt.show()\n",
    "\n",
    "print(\"\\nObservation:\")\n",
    "print(\"- Which model is best?\")\n",
    "best_model = max(results, key=results.get)\n",
    "print(f\"  -> {best_model} performed the best in terms of accuracy.\")\n"
   ]
  }
 ],
 "metadata": {
  "kernelspec": {
   "display_name": "Python 3",
   "language": "python",
   "name": "python3"
  },
  "language_info": {
   "codemirror_mode": {
    "name": "ipython",
    "version": 3
   },
   "file_extension": ".py",
   "mimetype": "text/x-python",
   "name": "python",
   "nbconvert_exporter": "python",
   "pygments_lexer": "ipython3",
   "version": "3.13.3"
  }
 },
 "nbformat": 4,
 "nbformat_minor": 5
}
