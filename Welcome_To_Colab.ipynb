{
  "cells": [
    {
      "cell_type": "code",
      "source": [
        "import pandas as pd\n",
        "import numpy as np\n",
        "from sklearn.model_selection import train_test_split\n",
        "from sklearn.preprocessing import LabelEncoder\n",
        "from sklearn.metrics import accuracy_score, classification_report, confusion_matrix\n",
        "\n",
        "import tensorflow as tf\n",
        "from tensorflow.keras.preprocessing.text import Tokenizer\n",
        "from tensorflow.keras.preprocessing.sequence import pad_sequences\n",
        "from tensorflow.keras import layers, models\n"
      ],
      "metadata": {
        "id": "QXwQQUs2Tl_7"
      },
      "execution_count": 3,
      "outputs": []
    },
    {
      "cell_type": "code",
      "source": [
        "import numpy as np\n",
        "\n",
        "# We know \"None\" corresponds to encoded class 2\n",
        "RARE_CLASS_ID = 2\n",
        "\n",
        "filtered_texts = []\n",
        "filtered_labels = []\n",
        "\n",
        "for t, lab in zip(texts, labels_encoded):\n",
        "    if lab != RARE_CLASS_ID:  # drop the 'None' rows\n",
        "        filtered_texts.append(t)\n",
        "        filtered_labels.append(lab)\n",
        "\n",
        "print(\"Original size:\", len(texts))\n",
        "print(\"Filtered size:\", len(filtered_texts))\n",
        "\n",
        "# Confirm remaining label distribution\n",
        "print(\"\\nRemaining label counts:\")\n",
        "print(pd.Series(filtered_labels).value_counts())\n"
      ],
      "metadata": {
        "colab": {
          "base_uri": "https://localhost:8080/"
        },
        "id": "PkDlQUY5WULs",
        "outputId": "94ee057f-8ab7-4bbb-ad40-bdf194aa0598"
      },
      "execution_count": 11,
      "outputs": [
        {
          "output_type": "stream",
          "name": "stdout",
          "text": [
            "Original size: 318023\n",
            "Filtered size: 318022\n",
            "\n",
            "Remaining label counts:\n",
            "0    106548\n",
            "3    105831\n",
            "1    105643\n",
            "Name: count, dtype: int64\n"
          ]
        }
      ]
    },
    {
      "cell_type": "code",
      "source": [
        "X_train_texts, X_test_texts, y_train, y_test = train_test_split(\n",
        "    filtered_texts,\n",
        "    filtered_labels,\n",
        "    test_size=0.2,\n",
        "    random_state=42,\n",
        "    stratify=filtered_labels\n",
        ")\n",
        "\n",
        "print(\"Train size:\", len(X_train_texts))\n",
        "print(\"Test size :\", len(X_test_texts))\n",
        "\n",
        "# we'll reuse these hyperparams\n",
        "MAX_VOCAB = 20000\n",
        "MAX_LEN = 50\n",
        "EMBED_DIM = 100\n"
      ],
      "metadata": {
        "colab": {
          "base_uri": "https://localhost:8080/"
        },
        "id": "rlmnC983TqMK",
        "outputId": "e4891ab0-90c9-4592-ce15-a2461ce41f03"
      },
      "execution_count": 12,
      "outputs": [
        {
          "output_type": "stream",
          "name": "stdout",
          "text": [
            "Train size: 254417\n",
            "Test size : 63605\n"
          ]
        }
      ]
    },
    {
      "cell_type": "code",
      "source": [
        "# We know original mapping from label_encoder.classes_:\n",
        "# classes_ = ['Negative', 'Neutral', 'None', 'Positive']\n",
        "# encoded :     0          1         2         3\n",
        "\n",
        "# We'll remap {0,1,3} -> {0,1,2}\n",
        "remap_dict = {0:0, 1:1, 3:2}\n",
        "\n",
        "y_train = np.array([remap_dict[y] for y in y_train])\n",
        "y_test  = np.array([remap_dict[y] for y in y_test])\n",
        "\n",
        "num_classes = 3  # Negative, Neutral, Positive (clean)\n",
        "print(\"Unique y_train after remap:\", np.unique(y_train))\n",
        "print(\"Unique y_test after remap :\", np.unique(y_test))\n"
      ],
      "metadata": {
        "colab": {
          "base_uri": "https://localhost:8080/"
        },
        "id": "HqqyONLvT1UH",
        "outputId": "f0ebe730-4f97-420e-ec7b-8d6257eda4e2"
      },
      "execution_count": 13,
      "outputs": [
        {
          "output_type": "stream",
          "name": "stdout",
          "text": [
            "Unique y_train after remap: [0 1 2]\n",
            "Unique y_test after remap : [0 1 2]\n"
          ]
        }
      ]
    },
    {
      "cell_type": "code",
      "source": [
        "class_names = [\"Negative\", \"Neutral\", \"Positive\"]\n",
        "print(\"Class order for reporting:\", class_names)\n"
      ],
      "metadata": {
        "colab": {
          "base_uri": "https://localhost:8080/"
        },
        "id": "hglB2XxMU1lT",
        "outputId": "bd6c52fa-bbda-4c71-b52f-091033d64dad"
      },
      "execution_count": 14,
      "outputs": [
        {
          "output_type": "stream",
          "name": "stdout",
          "text": [
            "Class order for reporting: ['Negative', 'Neutral', 'Positive']\n"
          ]
        }
      ]
    },
    {
      "cell_type": "code",
      "source": [
        "from tensorflow.keras.preprocessing.text import Tokenizer\n",
        "from tensorflow.keras.preprocessing.sequence import pad_sequences\n",
        "\n",
        "tokenizer = Tokenizer(num_words=MAX_VOCAB, oov_token=\"<UNK>\")\n",
        "tokenizer.fit_on_texts(X_train_texts)\n",
        "\n",
        "X_train_seq = tokenizer.texts_to_sequences(X_train_texts)\n",
        "X_test_seq  = tokenizer.texts_to_sequences(X_test_texts)\n",
        "\n",
        "X_train_pad = pad_sequences(X_train_seq, maxlen=MAX_LEN, padding='post', truncating='post')\n",
        "X_test_pad  = pad_sequences(X_test_seq,  maxlen=MAX_LEN, padding='post', truncating='post')\n",
        "\n",
        "print(\"Train padded shape:\", X_train_pad.shape)\n",
        "print(\"Test padded shape :\", X_test_pad.shape)\n"
      ],
      "metadata": {
        "colab": {
          "base_uri": "https://localhost:8080/"
        },
        "id": "1M0Ze4oLWnyv",
        "outputId": "1bd811d1-445b-43a9-fac8-e8050d96bf6e"
      },
      "execution_count": 15,
      "outputs": [
        {
          "output_type": "stream",
          "name": "stdout",
          "text": [
            "Train padded shape: (254417, 50)\n",
            "Test padded shape : (63605, 50)\n"
          ]
        }
      ]
    },
    {
      "cell_type": "code",
      "source": [
        "!wget -q http://nlp.stanford.edu/data/glove.6B.zip\n",
        "!unzip -q glove.6B.zip\n",
        "\n",
        "embeddings_index = {}\n",
        "with open(\"glove.6B.100d.txt\", \"r\", encoding=\"utf-8\") as f:\n",
        "    for line in f:\n",
        "        values = line.split()\n",
        "        word = values[0]\n",
        "        coefs = np.asarray(values[1:], dtype=\"float32\")\n",
        "        embeddings_index[word] = coefs\n",
        "\n",
        "print(\"Loaded word vectors:\", len(embeddings_index))\n",
        "\n",
        "word_index = tokenizer.word_index\n",
        "vocab_size = min(MAX_VOCAB, len(word_index) + 1)\n",
        "\n",
        "embedding_matrix = np.zeros((vocab_size, EMBED_DIM), dtype=\"float32\")\n",
        "\n",
        "for word, idx in word_index.items():\n",
        "    if idx < MAX_VOCAB:\n",
        "        vec = embeddings_index.get(word)\n",
        "        if vec is not None:\n",
        "            embedding_matrix[idx] = vec\n",
        "\n",
        "print(\"Embedding matrix shape:\", embedding_matrix.shape)\n"
      ],
      "metadata": {
        "colab": {
          "base_uri": "https://localhost:8080/"
        },
        "id": "7vidTlvvWwxb",
        "outputId": "1fedcd2c-70f7-46cc-9a50-af83028c63be"
      },
      "execution_count": 16,
      "outputs": [
        {
          "output_type": "stream",
          "name": "stdout",
          "text": [
            "Loaded word vectors: 400000\n",
            "Embedding matrix shape: (20000, 100)\n"
          ]
        }
      ]
    },
    {
      "cell_type": "code",
      "source": [
        "import tensorflow as tf\n",
        "from tensorflow.keras import layers, models\n",
        "\n",
        "model = models.Sequential([\n",
        "    layers.Embedding(\n",
        "        input_dim=vocab_size,\n",
        "        output_dim=EMBED_DIM,\n",
        "        weights=[embedding_matrix],\n",
        "        input_length=MAX_LEN,\n",
        "        trainable=False  # keep GloVe frozen\n",
        "    ),\n",
        "    layers.Bidirectional(layers.LSTM(64, return_sequences=False)),\n",
        "    layers.Dense(64, activation=\"relu\"),\n",
        "    layers.Dropout(0.5),\n",
        "    layers.Dense(num_classes, activation=\"softmax\")\n",
        "])\n",
        "\n",
        "model.compile(\n",
        "    loss=\"sparse_categorical_crossentropy\",\n",
        "    optimizer=\"adam\",\n",
        "    metrics=[\"accuracy\"]\n",
        ")\n",
        "\n",
        "model.summary()\n"
      ],
      "metadata": {
        "colab": {
          "base_uri": "https://localhost:8080/",
          "height": 344
        },
        "id": "Gr9whuVpXlbY",
        "outputId": "96f1c273-7c45-4de7-df17-6ae7896c2fb4"
      },
      "execution_count": 17,
      "outputs": [
        {
          "output_type": "stream",
          "name": "stderr",
          "text": [
            "/usr/local/lib/python3.12/dist-packages/keras/src/layers/core/embedding.py:97: UserWarning: Argument `input_length` is deprecated. Just remove it.\n",
            "  warnings.warn(\n"
          ]
        },
        {
          "output_type": "display_data",
          "data": {
            "text/plain": [
              "\u001b[1mModel: \"sequential\"\u001b[0m\n"
            ],
            "text/html": [
              "<pre style=\"white-space:pre;overflow-x:auto;line-height:normal;font-family:Menlo,'DejaVu Sans Mono',consolas,'Courier New',monospace\"><span style=\"font-weight: bold\">Model: \"sequential\"</span>\n",
              "</pre>\n"
            ]
          },
          "metadata": {}
        },
        {
          "output_type": "display_data",
          "data": {
            "text/plain": [
              "┏━━━━━━━━━━━━━━━━━━━━━━━━━━━━━━━━━┳━━━━━━━━━━━━━━━━━━━━━━━━┳━━━━━━━━━━━━━━━┓\n",
              "┃\u001b[1m \u001b[0m\u001b[1mLayer (type)                   \u001b[0m\u001b[1m \u001b[0m┃\u001b[1m \u001b[0m\u001b[1mOutput Shape          \u001b[0m\u001b[1m \u001b[0m┃\u001b[1m \u001b[0m\u001b[1m      Param #\u001b[0m\u001b[1m \u001b[0m┃\n",
              "┡━━━━━━━━━━━━━━━━━━━━━━━━━━━━━━━━━╇━━━━━━━━━━━━━━━━━━━━━━━━╇━━━━━━━━━━━━━━━┩\n",
              "│ embedding (\u001b[38;5;33mEmbedding\u001b[0m)           │ ?                      │     \u001b[38;5;34m2,000,000\u001b[0m │\n",
              "├─────────────────────────────────┼────────────────────────┼───────────────┤\n",
              "│ bidirectional (\u001b[38;5;33mBidirectional\u001b[0m)   │ ?                      │   \u001b[38;5;34m0\u001b[0m (unbuilt) │\n",
              "├─────────────────────────────────┼────────────────────────┼───────────────┤\n",
              "│ dense (\u001b[38;5;33mDense\u001b[0m)                   │ ?                      │   \u001b[38;5;34m0\u001b[0m (unbuilt) │\n",
              "├─────────────────────────────────┼────────────────────────┼───────────────┤\n",
              "│ dropout (\u001b[38;5;33mDropout\u001b[0m)               │ ?                      │             \u001b[38;5;34m0\u001b[0m │\n",
              "├─────────────────────────────────┼────────────────────────┼───────────────┤\n",
              "│ dense_1 (\u001b[38;5;33mDense\u001b[0m)                 │ ?                      │   \u001b[38;5;34m0\u001b[0m (unbuilt) │\n",
              "└─────────────────────────────────┴────────────────────────┴───────────────┘\n"
            ],
            "text/html": [
              "<pre style=\"white-space:pre;overflow-x:auto;line-height:normal;font-family:Menlo,'DejaVu Sans Mono',consolas,'Courier New',monospace\">┏━━━━━━━━━━━━━━━━━━━━━━━━━━━━━━━━━┳━━━━━━━━━━━━━━━━━━━━━━━━┳━━━━━━━━━━━━━━━┓\n",
              "┃<span style=\"font-weight: bold\"> Layer (type)                    </span>┃<span style=\"font-weight: bold\"> Output Shape           </span>┃<span style=\"font-weight: bold\">       Param # </span>┃\n",
              "┡━━━━━━━━━━━━━━━━━━━━━━━━━━━━━━━━━╇━━━━━━━━━━━━━━━━━━━━━━━━╇━━━━━━━━━━━━━━━┩\n",
              "│ embedding (<span style=\"color: #0087ff; text-decoration-color: #0087ff\">Embedding</span>)           │ ?                      │     <span style=\"color: #00af00; text-decoration-color: #00af00\">2,000,000</span> │\n",
              "├─────────────────────────────────┼────────────────────────┼───────────────┤\n",
              "│ bidirectional (<span style=\"color: #0087ff; text-decoration-color: #0087ff\">Bidirectional</span>)   │ ?                      │   <span style=\"color: #00af00; text-decoration-color: #00af00\">0</span> (unbuilt) │\n",
              "├─────────────────────────────────┼────────────────────────┼───────────────┤\n",
              "│ dense (<span style=\"color: #0087ff; text-decoration-color: #0087ff\">Dense</span>)                   │ ?                      │   <span style=\"color: #00af00; text-decoration-color: #00af00\">0</span> (unbuilt) │\n",
              "├─────────────────────────────────┼────────────────────────┼───────────────┤\n",
              "│ dropout (<span style=\"color: #0087ff; text-decoration-color: #0087ff\">Dropout</span>)               │ ?                      │             <span style=\"color: #00af00; text-decoration-color: #00af00\">0</span> │\n",
              "├─────────────────────────────────┼────────────────────────┼───────────────┤\n",
              "│ dense_1 (<span style=\"color: #0087ff; text-decoration-color: #0087ff\">Dense</span>)                 │ ?                      │   <span style=\"color: #00af00; text-decoration-color: #00af00\">0</span> (unbuilt) │\n",
              "└─────────────────────────────────┴────────────────────────┴───────────────┘\n",
              "</pre>\n"
            ]
          },
          "metadata": {}
        },
        {
          "output_type": "display_data",
          "data": {
            "text/plain": [
              "\u001b[1m Total params: \u001b[0m\u001b[38;5;34m2,000,000\u001b[0m (7.63 MB)\n"
            ],
            "text/html": [
              "<pre style=\"white-space:pre;overflow-x:auto;line-height:normal;font-family:Menlo,'DejaVu Sans Mono',consolas,'Courier New',monospace\"><span style=\"font-weight: bold\"> Total params: </span><span style=\"color: #00af00; text-decoration-color: #00af00\">2,000,000</span> (7.63 MB)\n",
              "</pre>\n"
            ]
          },
          "metadata": {}
        },
        {
          "output_type": "display_data",
          "data": {
            "text/plain": [
              "\u001b[1m Trainable params: \u001b[0m\u001b[38;5;34m0\u001b[0m (0.00 B)\n"
            ],
            "text/html": [
              "<pre style=\"white-space:pre;overflow-x:auto;line-height:normal;font-family:Menlo,'DejaVu Sans Mono',consolas,'Courier New',monospace\"><span style=\"font-weight: bold\"> Trainable params: </span><span style=\"color: #00af00; text-decoration-color: #00af00\">0</span> (0.00 B)\n",
              "</pre>\n"
            ]
          },
          "metadata": {}
        },
        {
          "output_type": "display_data",
          "data": {
            "text/plain": [
              "\u001b[1m Non-trainable params: \u001b[0m\u001b[38;5;34m2,000,000\u001b[0m (7.63 MB)\n"
            ],
            "text/html": [
              "<pre style=\"white-space:pre;overflow-x:auto;line-height:normal;font-family:Menlo,'DejaVu Sans Mono',consolas,'Courier New',monospace\"><span style=\"font-weight: bold\"> Non-trainable params: </span><span style=\"color: #00af00; text-decoration-color: #00af00\">2,000,000</span> (7.63 MB)\n",
              "</pre>\n"
            ]
          },
          "metadata": {}
        }
      ]
    },
    {
      "cell_type": "code",
      "source": [
        "history = model.fit(\n",
        "    X_train_pad,\n",
        "    y_train,\n",
        "    validation_split=0.1,\n",
        "    epochs=5,\n",
        "    batch_size=64,\n",
        "    verbose=1\n",
        ")\n"
      ],
      "metadata": {
        "colab": {
          "base_uri": "https://localhost:8080/"
        },
        "id": "DhErDQtuXnBJ",
        "outputId": "05555c48-b19a-4b67-905b-88e89268f220"
      },
      "execution_count": 18,
      "outputs": [
        {
          "output_type": "stream",
          "name": "stdout",
          "text": [
            "Epoch 1/5\n",
            "\u001b[1m3578/3578\u001b[0m \u001b[32m━━━━━━━━━━━━━━━━━━━━\u001b[0m\u001b[37m\u001b[0m \u001b[1m344s\u001b[0m 95ms/step - accuracy: 0.5722 - loss: 0.9113 - val_accuracy: 0.6308 - val_loss: 0.8145\n",
            "Epoch 2/5\n",
            "\u001b[1m3578/3578\u001b[0m \u001b[32m━━━━━━━━━━━━━━━━━━━━\u001b[0m\u001b[37m\u001b[0m \u001b[1m342s\u001b[0m 96ms/step - accuracy: 0.6352 - loss: 0.8104 - val_accuracy: 0.6497 - val_loss: 0.7791\n",
            "Epoch 3/5\n",
            "\u001b[1m3578/3578\u001b[0m \u001b[32m━━━━━━━━━━━━━━━━━━━━\u001b[0m\u001b[37m\u001b[0m \u001b[1m378s\u001b[0m 95ms/step - accuracy: 0.6552 - loss: 0.7745 - val_accuracy: 0.6510 - val_loss: 0.7729\n",
            "Epoch 4/5\n",
            "\u001b[1m3578/3578\u001b[0m \u001b[32m━━━━━━━━━━━━━━━━━━━━\u001b[0m\u001b[37m\u001b[0m \u001b[1m387s\u001b[0m 96ms/step - accuracy: 0.6650 - loss: 0.7539 - val_accuracy: 0.6568 - val_loss: 0.7637\n",
            "Epoch 5/5\n",
            "\u001b[1m3578/3578\u001b[0m \u001b[32m━━━━━━━━━━━━━━━━━━━━\u001b[0m\u001b[37m\u001b[0m \u001b[1m382s\u001b[0m 96ms/step - accuracy: 0.6753 - loss: 0.7353 - val_accuracy: 0.6614 - val_loss: 0.7603\n"
          ]
        }
      ]
    },
    {
      "cell_type": "code",
      "source": [
        "from sklearn.metrics import accuracy_score, classification_report, confusion_matrix\n",
        "import numpy as np\n",
        "\n",
        "# Predict\n",
        "y_pred_probs = model.predict(X_test_pad)\n",
        "y_pred = np.argmax(y_pred_probs, axis=1)\n",
        "\n",
        "# Accuracy\n",
        "test_acc = accuracy_score(y_test, y_pred)\n",
        "print(\"Test Accuracy (GloVe + BiLSTM):\", test_acc)\n",
        "\n",
        "# Detailed report\n",
        "print(\"\\nClassification Report:\")\n",
        "print(classification_report(\n",
        "    y_test,\n",
        "    y_pred,\n",
        "    target_names=class_names\n",
        "))\n",
        "\n",
        "print(\"Confusion Matrix:\")\n",
        "print(confusion_matrix(y_test, y_pred))\n"
      ],
      "metadata": {
        "colab": {
          "base_uri": "https://localhost:8080/"
        },
        "id": "JAMrjWMtge8b",
        "outputId": "04df02d5-a0f0-433d-977f-cde34826383d"
      },
      "execution_count": 19,
      "outputs": [
        {
          "output_type": "stream",
          "name": "stdout",
          "text": [
            "\u001b[1m1988/1988\u001b[0m \u001b[32m━━━━━━━━━━━━━━━━━━━━\u001b[0m\u001b[37m\u001b[0m \u001b[1m38s\u001b[0m 18ms/step\n",
            "Test Accuracy (GloVe + BiLSTM): 0.6583759138432513\n",
            "\n",
            "Classification Report:\n",
            "              precision    recall  f1-score   support\n",
            "\n",
            "    Negative       0.62      0.73      0.67     21310\n",
            "     Neutral       0.60      0.64      0.62     21129\n",
            "    Positive       0.79      0.61      0.69     21166\n",
            "\n",
            "    accuracy                           0.66     63605\n",
            "   macro avg       0.67      0.66      0.66     63605\n",
            "weighted avg       0.67      0.66      0.66     63605\n",
            "\n",
            "Confusion Matrix:\n",
            "[[15512  4553  1245]\n",
            " [ 5561 13432  2136]\n",
            " [ 3757  4477 12932]]\n"
          ]
        }
      ]
    },
    {
      "cell_type": "code",
      "source": [
        "import matplotlib.pyplot as plt\n",
        "\n",
        "models = [\"Naive Bayes\", \"SVM\", \"Logistic Regression\", \"GloVe + BiLSTM\"]\n",
        "accuracies = [0.6015, 0.6459, 0.66, 0.6584]\n",
        "\n",
        "plt.figure(figsize=(8,5))\n",
        "plt.bar(models, accuracies, color=['skyblue', 'lightgreen', 'orange', 'violet'])\n",
        "plt.title(\"Sentiment Analysis Model Comparison\")\n",
        "plt.ylabel(\"Accuracy\")\n",
        "plt.ylim(0.55, 0.70)\n",
        "plt.grid(axis='y', linestyle='--', alpha=0.7)\n",
        "plt.show()\n"
      ],
      "metadata": {
        "colab": {
          "base_uri": "https://localhost:8080/",
          "height": 468
        },
        "id": "1vr3LOhPg_zO",
        "outputId": "3632f86b-7a0c-43f7-c384-cfaf985e7ba2"
      },
      "execution_count": 20,
      "outputs": [
        {
          "output_type": "display_data",
          "data": {
            "text/plain": [
              "<Figure size 800x500 with 1 Axes>"
            ],
            "image/png": "[encoded data removed]"
          },
          "metadata": {}
        }
      ]
    }
  ],
  "metadata": {
    "colab": {
      "name": "Welcome To Colab",
      "provenance": []
    },
    "kernelspec": {
      "display_name": "Python 3",
      "name": "python3"
    }
  },
  "nbformat": 4,
  "nbformat_minor": 0
}